{
 "cells": [
  {
   "cell_type": "code",
   "execution_count": 1,
   "id": "7621ad79-6bb9-442f-aeba-65e35eca616f",
   "metadata": {},
   "outputs": [
    {
     "name": "stdout",
     "output_type": "stream",
     "text": [
      "Number of rows with Rating = 1: 369\n",
      "Number of rows with Rating = 2: 47\n",
      "Number of rows with Rating = 3: 66\n",
      "Number of rows with Rating = 4: 1020\n",
      "Total number of Non-5 Ratings 1502\n",
      "Number of 5-star Ratings 193779 | Percentage of 5-star: 99.23\n"
     ]
    }
   ],
   "source": [
    "# Let them know that data is sort of biased. With a lot of occurences of 5 star ratings\n",
    "\n",
    "import pandas as pd\n",
    "\n",
    "pd.set_option('display.max_colwidth', None)\n",
    "\n",
    "\n",
    "df = pd.read_csv('Zillow data - CA.csv') \n",
    "non_5 = 0\n",
    "for i in range (1,5):\n",
    "    df_rating = df[df['Rating'] == i]\n",
    "    print(f\"Number of rows with Rating = {i}: {len(df_rating)}\")\n",
    "    non_5 += len(df_rating)\n",
    "\n",
    "print(\"Total number of Non-5 Ratings\", non_5)\n",
    "print(\"Number of 5-star Ratings\", len(df[df['Rating'] == 5]), \"| Percentage of 5-star:\", round(len(df[df['Rating'] == 5])/len(df) *100, 2))"
   ]
  },
  {
   "cell_type": "code",
   "execution_count": 2,
   "id": "c17cc28d-844f-4fd5-963e-a8102c3e85d5",
   "metadata": {},
   "outputs": [
    {
     "data": {
      "text/plain": [
       "Rating         0\n",
       "Address        0\n",
       "ReviewDate     0\n",
       "Description    0\n",
       "dtype: int64"
      ]
     },
     "execution_count": 2,
     "metadata": {},
     "output_type": "execute_result"
    }
   ],
   "source": [
    "#There are no empty cells in the data\n",
    "df.isnull().sum()"
   ]
  },
  {
   "cell_type": "code",
   "execution_count": 6,
   "id": "28f23684-9ff2-4766-a00c-d55cb6d3fba4",
   "metadata": {},
   "outputs": [
    {
     "name": "stderr",
     "output_type": "stream",
     "text": [
      "/tmp/ipykernel_133554/2515425821.py:20: SettingWithCopyWarning: \n",
      "A value is trying to be set on a copy of a slice from a DataFrame.\n",
      "Try using .loc[row_indexer,col_indexer] = value instead\n",
      "\n",
      "See the caveats in the documentation: https://pandas.pydata.org/pandas-docs/stable/user_guide/indexing.html#returning-a-view-versus-a-copy\n",
      "  small_df['Cleaned_Description'] = small_df['Description'].astype(str).apply(spacy_preprocess)\n"
     ]
    }
   ],
   "source": [
    "# Text Pre-Processing\n",
    "import spacy\n",
    "\n",
    "# Load the English model\n",
    "nlp = spacy.load(\"en_core_web_sm\")\n",
    "\n",
    "def spacy_preprocess(text):\n",
    "    doc = nlp(text.lower())  # lowercasing + spaCy pipeline\n",
    "    \n",
    "    tokens = []\n",
    "    for token in doc:\n",
    "        # Filter tokens\n",
    "        if (not token.is_stop) and (not token.is_punct) and (token.is_alpha or token.like_num):\n",
    "            tokens.append(token.lemma_)  # Lemmatize\n",
    "    \n",
    "    return ' '.join(tokens)\n",
    "\n",
    "    \n",
    "small_df = df.head(1000)\n",
    "small_df['Cleaned_Description'] = small_df['Description'].astype(str).apply(spacy_preprocess)\n"
   ]
  },
  {
   "cell_type": "code",
   "execution_count": 5,
   "id": "41c2f938-1c27-443d-a4b0-8a72045ad48e",
   "metadata": {},
   "outputs": [
    {
     "data": {
      "text/html": [
       "<div>\n",
       "<style scoped>\n",
       "    .dataframe tbody tr th:only-of-type {\n",
       "        vertical-align: middle;\n",
       "    }\n",
       "\n",
       "    .dataframe tbody tr th {\n",
       "        vertical-align: top;\n",
       "    }\n",
       "\n",
       "    .dataframe thead th {\n",
       "        text-align: right;\n",
       "    }\n",
       "</style>\n",
       "<table border=\"1\" class=\"dataframe\">\n",
       "  <thead>\n",
       "    <tr style=\"text-align: right;\">\n",
       "      <th></th>\n",
       "      <th>Rating</th>\n",
       "      <th>Address</th>\n",
       "      <th>ReviewDate</th>\n",
       "      <th>Description</th>\n",
       "      <th>Cleaned_Description</th>\n",
       "    </tr>\n",
       "  </thead>\n",
       "  <tbody>\n",
       "    <tr>\n",
       "      <th>0</th>\n",
       "      <td>5</td>\n",
       "      <td>77106 Casa Del Sol, La Quinta, CA 92253</td>\n",
       "      <td>2010-12-03</td>\n",
       "      <td>Sid was referred to us by a golf buddy who had just purchased a vacation home in PGA West and was represented by Sid. His recommendation clearly presented Sid in a stellar light. I would absolutely second that! Sid found us a great house, structured a fine deal and has continued to helpful in every way. Sid is very honest and has an amazing work ethic. We would highly recommend Sid to anyone looking for property.Don &amp; Ann Kerkes</td>\n",
       "      <td>sid refer golf buddy purchase vacation home pga west represent sid recommendation clearly present sid stellar light absolutely sid find great house structure fine deal continue helpful way sid honest amazing work ethic highly recommend sid look ann kerkes</td>\n",
       "    </tr>\n",
       "    <tr>\n",
       "      <th>1</th>\n",
       "      <td>5</td>\n",
       "      <td>1484 N White Ave, Pomona, CA 91768</td>\n",
       "      <td>2010-12-07</td>\n",
       "      <td>Mr. McIntire helped me purchase my first home. He was very informative and so positive! In todays market it is very stressful, at times there were 30 offers on one home. As a single woman with one income, I thought I would never get a house. Mr. McIntire was not familiar with the area I wanted to purchase in. However, he took the time to research the areas, preview them before we went out, and inquire on the safety of the area. I not only got a house, but the best house out of the many I saw. Mr. McIntire really looked out for my best interest. When I asked his opinion on houses, he was honest about what type of purchase would be a great investment. He was great!</td>\n",
       "      <td>mr mcintire help purchase home informative positive today market stressful time offer home single woman income think house mr mcintire familiar area want purchase take time research area preview go inquire safety area get house good house see mr mcintire look good interest ask opinion house honest type purchase great investment great</td>\n",
       "    </tr>\n",
       "    <tr>\n",
       "      <th>2</th>\n",
       "      <td>5</td>\n",
       "      <td>16222 Monterey Ln, Huntington Beach, CA 92649</td>\n",
       "      <td>2010-12-15</td>\n",
       "      <td>Larry helped me through the entire purchase and was very patient in explaining every detail.  He really had my best interests at heart and made sure I got the best possible terms.</td>\n",
       "      <td>larry help entire purchase patient explain detail good interest heart sure get good possible term</td>\n",
       "    </tr>\n",
       "    <tr>\n",
       "      <th>3</th>\n",
       "      <td>5</td>\n",
       "      <td>10757 Ashby Ave, Los Angeles, CA 90064</td>\n",
       "      <td>2011-01-14</td>\n",
       "      <td>Agnes is very responsive and dedicated. She did a great job at explaining the whole process thoroughly and stayed by our side for over two years until we found the right home for us. Agnes is fluent in English and Spanish.</td>\n",
       "      <td>agne responsive dedicated great job explain process thoroughly stay year find right home agne fluent english spanish</td>\n",
       "    </tr>\n",
       "    <tr>\n",
       "      <th>4</th>\n",
       "      <td>5</td>\n",
       "      <td>2906 Griset, Tustin, CA 92782</td>\n",
       "      <td>2011-01-17</td>\n",
       "      <td>Karen Fenn is as good a real estate agent as they get.  I'm a commercial real estate broker who was moving to the area looking for a good one year rental for my family and me.  I didn't know the areas and so I needed an agent who wasn't forcused on just one sub-market but could help me find the right sub-market to meet my needs.  I just happened to find Karen when she responded to one of my Zillow e-mail requests.  From start to finish, she was exceptional. She found us the perfect house in the perfect neighborhood.  I give her my highest recommendation.</td>\n",
       "      <td>karen fenn good real estate agent commercial real estate broker move area look good year rental family know area need agent forcuse sub market help find right sub market meet need happen find karen respond zillow e mail request start finish exceptional find perfect house perfect neighborhood high recommendation</td>\n",
       "    </tr>\n",
       "  </tbody>\n",
       "</table>\n",
       "</div>"
      ],
      "text/plain": [
       "   Rating                                        Address  ReviewDate  \\\n",
       "0       5        77106 Casa Del Sol, La Quinta, CA 92253  2010-12-03   \n",
       "1       5             1484 N White Ave, Pomona, CA 91768  2010-12-07   \n",
       "2       5  16222 Monterey Ln, Huntington Beach, CA 92649  2010-12-15   \n",
       "3       5         10757 Ashby Ave, Los Angeles, CA 90064  2011-01-14   \n",
       "4       5                  2906 Griset, Tustin, CA 92782  2011-01-17   \n",
       "\n",
       "                                                                                                                                                                                                                                                                                                                                                                                                                                                                                                                                                                                                                                                                                       Description  \\\n",
       "0                                                                                                                                                                                                                                                 Sid was referred to us by a golf buddy who had just purchased a vacation home in PGA West and was represented by Sid. His recommendation clearly presented Sid in a stellar light. I would absolutely second that! Sid found us a great house, structured a fine deal and has continued to helpful in every way. Sid is very honest and has an amazing work ethic. We would highly recommend Sid to anyone looking for property.Don & Ann Kerkes   \n",
       "1  Mr. McIntire helped me purchase my first home. He was very informative and so positive! In todays market it is very stressful, at times there were 30 offers on one home. As a single woman with one income, I thought I would never get a house. Mr. McIntire was not familiar with the area I wanted to purchase in. However, he took the time to research the areas, preview them before we went out, and inquire on the safety of the area. I not only got a house, but the best house out of the many I saw. Mr. McIntire really looked out for my best interest. When I asked his opinion on houses, he was honest about what type of purchase would be a great investment. He was great!   \n",
       "2                                                                                                                                                                                                                                                                                                                                                                                                                                                                                                              Larry helped me through the entire purchase and was very patient in explaining every detail.  He really had my best interests at heart and made sure I got the best possible terms.   \n",
       "3                                                                                                                                                                                                                                                                                                                                                                                                                                                                   Agnes is very responsive and dedicated. She did a great job at explaining the whole process thoroughly and stayed by our side for over two years until we found the right home for us. Agnes is fluent in English and Spanish.   \n",
       "4                                                                                                                 Karen Fenn is as good a real estate agent as they get.  I'm a commercial real estate broker who was moving to the area looking for a good one year rental for my family and me.  I didn't know the areas and so I needed an agent who wasn't forcused on just one sub-market but could help me find the right sub-market to meet my needs.  I just happened to find Karen when she responded to one of my Zillow e-mail requests.  From start to finish, she was exceptional. She found us the perfect house in the perfect neighborhood.  I give her my highest recommendation.   \n",
       "\n",
       "                                                                                                                                                                                                                                                                                                                               Cleaned_Description  \n",
       "0                                                                                  sid refer golf buddy purchase vacation home pga west represent sid recommendation clearly present sid stellar light absolutely sid find great house structure fine deal continue helpful way sid honest amazing work ethic highly recommend sid look ann kerkes  \n",
       "1  mr mcintire help purchase home informative positive today market stressful time offer home single woman income think house mr mcintire familiar area want purchase take time research area preview go inquire safety area get house good house see mr mcintire look good interest ask opinion house honest type purchase great investment great  \n",
       "2                                                                                                                                                                                                                                                larry help entire purchase patient explain detail good interest heart sure get good possible term  \n",
       "3                                                                                                                                                                                                                             agne responsive dedicated great job explain process thoroughly stay year find right home agne fluent english spanish  \n",
       "4                         karen fenn good real estate agent commercial real estate broker move area look good year rental family know area need agent forcuse sub market help find right sub market meet need happen find karen respond zillow e mail request start finish exceptional find perfect house perfect neighborhood high recommendation  "
      ]
     },
     "execution_count": 5,
     "metadata": {},
     "output_type": "execute_result"
    }
   ],
   "source": [
    "small_df.head()"
   ]
  },
  {
   "cell_type": "code",
   "execution_count": null,
   "id": "8fb61c3a-5509-47b1-b252-821a3055cc7b",
   "metadata": {},
   "outputs": [],
   "source": []
  }
 ],
 "metadata": {
  "kernelspec": {
   "display_name": "Python 3 (ipykernel)",
   "language": "python",
   "name": "python3"
  },
  "language_info": {
   "codemirror_mode": {
    "name": "ipython",
    "version": 3
   },
   "file_extension": ".py",
   "mimetype": "text/x-python",
   "name": "python",
   "nbconvert_exporter": "python",
   "pygments_lexer": "ipython3",
   "version": "3.12.3"
  }
 },
 "nbformat": 4,
 "nbformat_minor": 5
}

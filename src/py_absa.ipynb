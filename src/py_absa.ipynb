{
 "cells": [
  {
   "cell_type": "code",
   "execution_count": 9,
   "id": "7063942f-13a9-4d3c-b2cc-0b514f0bc390",
   "metadata": {},
   "outputs": [
    {
     "name": "stderr",
     "output_type": "stream",
     "text": [
      "/tmp/ipykernel_82371/567229453.py:9: DeprecationWarning: DataFrameGroupBy.apply operated on the grouping columns. This behavior is deprecated, and in a future version of pandas the grouping columns will be excluded from the operation. Either pass `include_groups=False` to exclude the groupings or explicitly select the grouping columns after groupby to silence this warning.\n",
      "  sampled_df = df.groupby('Rating').apply(\n"
     ]
    },
    {
     "name": "stdout",
     "output_type": "stream",
     "text": [
      "Rating\n",
      "5    99\n",
      "4     1\n",
      "Name: count, dtype: int64\n"
     ]
    },
    {
     "data": {
      "text/html": [
       "<div>\n",
       "<style scoped>\n",
       "    .dataframe tbody tr th:only-of-type {\n",
       "        vertical-align: middle;\n",
       "    }\n",
       "\n",
       "    .dataframe tbody tr th {\n",
       "        vertical-align: top;\n",
       "    }\n",
       "\n",
       "    .dataframe thead th {\n",
       "        text-align: right;\n",
       "    }\n",
       "</style>\n",
       "<table border=\"1\" class=\"dataframe\">\n",
       "  <thead>\n",
       "    <tr style=\"text-align: right;\">\n",
       "      <th></th>\n",
       "      <th>Rating</th>\n",
       "      <th>Address</th>\n",
       "      <th>ReviewDate</th>\n",
       "      <th>Description</th>\n",
       "      <th>Cleaned_Description</th>\n",
       "    </tr>\n",
       "  </thead>\n",
       "  <tbody>\n",
       "    <tr>\n",
       "      <th>0</th>\n",
       "      <td>4</td>\n",
       "      <td>5420 La Jolla Blvd #B204, La Jolla, CA 92037</td>\n",
       "      <td>2020-08-06</td>\n",
       "      <td>Linda is very knowledgeable and experienced. Despite the fact that I had bought many homes in the past, she guided me every step of the way. Her follow up was impeccable. She is a consummate professional. Always going above and beyond the call of duty. I would highly recommend anyone looking for an exceptional realtor. And this review doesn’t even begin to do her justice.</td>\n",
       "      <td>linda knowledgeable experienced despite fact buy home past guide step way follow impeccable consummate professional go duty highly recommend look exceptional realtor review begin justice</td>\n",
       "    </tr>\n",
       "    <tr>\n",
       "      <th>1</th>\n",
       "      <td>5</td>\n",
       "      <td>10123 Rio Hondo Pkwy, El Monte, CA 91733</td>\n",
       "      <td>2012-07-22</td>\n",
       "      <td>Our family has worked with Victor for over a year he represented in the purchase of a rental property.  Victor advised us to submit an fair market price which was accepted by the seller.  Once escrow opened, Victor stayed on top of the Escrow company to facilitate any issues and in some cases doing that the sales agent should have done.&lt;br/&gt;&lt;br/&gt;We are still working with Victor to purchase another property.  Victor monitors listings that meet our criteria and sends update of the latest listings in the areas where we are interested.    &lt;br/&gt;&lt;br/&gt;He is very knowledgeable of the areas and has an excellent sense of market values.  He is also aware of our specific criteria and provides us frequent updates on the market.</td>\n",
       "      <td>family work victor year represent purchase rental property victor advise submit fair market price accept seller escrow open victor stay escrow company facilitate issue case sale agent work victor purchase property victor monitor listing meet criterion send update late listing area interested knowledgeable area excellent sense market value aware specific criterion provide frequent update market</td>\n",
       "    </tr>\n",
       "    <tr>\n",
       "      <th>2</th>\n",
       "      <td>5</td>\n",
       "      <td>1314 Brown St, Martinez, CA 94553</td>\n",
       "      <td>2020-08-23</td>\n",
       "      <td>Cynthia blew us away with how helpful, patient and knowledgeable she was while we were searching for our first home to purchase. She was in constant communication and helped us find and close on our dream home during the busy holiday season. The amount of paperwork and contracts can be very daunting for a first time buyer but she came to us and walked us through everything step by step, even bringing gifts to help entertain our toddler during our meetings. We had such a great experience and are so happy with our decision to work with Cynthia. We highly recommend her to anyone in need of buying or selling a home. Thank you Cynthia!</td>\n",
       "      <td>cynthia blow away helpful patient knowledgeable search home purchase constant communication help find close dream home busy holiday season paperwork contract daunting time buyer come walk step step bring gift help entertain toddler meeting great experience happy decision work cynthia highly recommend need buy sell home thank cynthia</td>\n",
       "    </tr>\n",
       "    <tr>\n",
       "      <th>3</th>\n",
       "      <td>5</td>\n",
       "      <td>17975 Climax Rd Jackson, CA 95642</td>\n",
       "      <td>2023-10-06</td>\n",
       "      <td>Janelle is an outstanding realtor. She was present and available throughout the entire process. Her negotiation skills are creative and top notch. Janelle was in constant contact with the seller, our mortgage broker, the title company, and inspectors. She made everything run smoothly. We are a family of three with one more on the way and we are so excited to be moving into our new home. From finding a home that was not even on the market, to closing in under thirty days. Thank you Janelle, we could not have done this without you.</td>\n",
       "      <td>janelle outstanding realtor present available entire process negotiation skill creative notch janelle constant contact seller mortgage broker title company inspector run smoothly family way excited move new home find home market close thirty day thank janelle</td>\n",
       "    </tr>\n",
       "    <tr>\n",
       "      <th>4</th>\n",
       "      <td>5</td>\n",
       "      <td>1945 W 147th St Gardena, CA 90249</td>\n",
       "      <td>2022-11-11</td>\n",
       "      <td>Katelyn is AWESOME!   She helped us buy our first house when the market was crazy.  She guided us through the process with grace and ease.  Not only did she really ground us during this crazy process, she was such a fun cheerleader, therapist, partner and friend.  I would highly recommend Katelyn for anyone that wants to work with a kick butt agent.  She is amazing and can't say enough about her.</td>\n",
       "      <td>katelyn awesome help buy house market crazy guide process grace ease ground crazy process fun cheerleader therapist partner friend highly recommend katelyn want work kick butt agent amazing</td>\n",
       "    </tr>\n",
       "    <tr>\n",
       "      <th>...</th>\n",
       "      <td>...</td>\n",
       "      <td>...</td>\n",
       "      <td>...</td>\n",
       "      <td>...</td>\n",
       "      <td>...</td>\n",
       "    </tr>\n",
       "    <tr>\n",
       "      <th>95</th>\n",
       "      <td>5</td>\n",
       "      <td>2041 Calle La Sombra UNIT 2, Simi Valley, CA 93063</td>\n",
       "      <td>2017-01-20</td>\n",
       "      <td>Jennifer was a referral and we could not be more pleased. She is soooo helpful and answered my many questions and was extremely patient with my husband and I. I especially liked how she wasn't pushy for a sale and made sure we were 100% confident with our purchase.</td>\n",
       "      <td>jennifer referral pleased soooo helpful answer question extremely patient husband especially like pushy sale sure 100 confident purchase</td>\n",
       "    </tr>\n",
       "    <tr>\n",
       "      <th>96</th>\n",
       "      <td>5</td>\n",
       "      <td>2112 Vista Grande St Danville, CA 94526</td>\n",
       "      <td>2023-11-10</td>\n",
       "      <td>Nika did an incredible job helping us get our first home! She took the time to get to know us and what we were looking for and always had our best interest in mind. She knew the neighborhoods really well and was able to make helpful recommendations about different neighborhoods and the pros and cons of each. When it came time to place offers she was able help us pick a number that was both competitive and comfortable for our budget. She communicated well with the listing agents and was great at negotiating on our behalf. On top of all that she was very friendly, responsive, and easy to work with, we highly recommend her!!</td>\n",
       "      <td>nika incredible job help home take time know look good interest mind know neighborhood able helpful recommendation different neighborhood pro con come time place offer able help pick number competitive comfortable budget communicate list agent great negotiate behalf friendly responsive easy work highly recommend</td>\n",
       "    </tr>\n",
       "    <tr>\n",
       "      <th>97</th>\n",
       "      <td>5</td>\n",
       "      <td>10335 Branigan Way Riverside, CA 92505</td>\n",
       "      <td>2024-02-13</td>\n",
       "      <td>Yareth was instrumental in helping us find our dream home. She patiently listened to our needs and preferences, guiding us through every step of the process. Her deep understanding of the market ensured we explored options tailored to our requirements. Yareth's proactive communication and attention to detail kept us informed and confident throughout the journey. Thanks to Yareth's expertise and support, we now happily reside in our dream home, and we couldn't be more grateful.</td>\n",
       "      <td>yareth instrumental help find dream home patiently listen need preference guide step process deep understanding market ensure explore option tailor requirement yareth proactive communication attention detail keep informed confident journey thank yareth expertise support happily reside dream home grateful</td>\n",
       "    </tr>\n",
       "    <tr>\n",
       "      <th>98</th>\n",
       "      <td>5</td>\n",
       "      <td>4252 Appleton St, San Diego, CA 92117</td>\n",
       "      <td>2016-10-27</td>\n",
       "      <td>Chase provided a fabulous service for me.I was looking for homes in San Diego, coming from Minnesota. I was in need of a lot of  education.  Chase set up an automatic email to view properties based on my preferences.  This was a fabulous tool to understand the area, prices and availability. I was able to make one trip  to San Diego before my purchase.  He lined up one full day of showings. I found the home I was looking for with his help.  He goes above and beyond with all questions.  Chase is truly a professional I would recommend to anyone looking for a home.</td>\n",
       "      <td>chase provide fabulous service look home san diego come minnesota need lot education chase set automatic email view property base preference fabulous tool understand area price availability able trip san diego purchase line day showing find home look help go question chase truly professional recommend look home</td>\n",
       "    </tr>\n",
       "    <tr>\n",
       "      <th>99</th>\n",
       "      <td>5</td>\n",
       "      <td>25 Sereno Pl, Vallejo, CA 94589</td>\n",
       "      <td>2015-06-15</td>\n",
       "      <td>Theresa Hadenfelt is hands down the best realtor I have ever had the pleasure of working with.  She is extremely knowledgeable about Bay Area real estate and works diligently to provide her clients with solutions to their problems and questions.  She also has valuable real estate connections that have enhanced the value and efficiency of my business.  Her professionalism and friendly demeanor are first rate and made the experience of buying a home simple and fun.  I would recommend Theresa to anyone interested in buying or selling real estate.  The quality of the service she provides cannot be overstated.</td>\n",
       "      <td>theresa hadenfelt hand good realtor pleasure work extremely knowledgeable bay area real estate work diligently provide client solution problem question valuable real estate connection enhance value efficiency business professionalism friendly demeanor rate experience buy home simple fun recommend theresa interested buy sell real estate quality service provide overstate</td>\n",
       "    </tr>\n",
       "  </tbody>\n",
       "</table>\n",
       "<p>100 rows × 5 columns</p>\n",
       "</div>"
      ],
      "text/plain": [
       "    Rating                                             Address  ReviewDate  \\\n",
       "0        4        5420 La Jolla Blvd #B204, La Jolla, CA 92037  2020-08-06   \n",
       "1        5            10123 Rio Hondo Pkwy, El Monte, CA 91733  2012-07-22   \n",
       "2        5                   1314 Brown St, Martinez, CA 94553  2020-08-23   \n",
       "3        5                   17975 Climax Rd Jackson, CA 95642  2023-10-06   \n",
       "4        5                   1945 W 147th St Gardena, CA 90249  2022-11-11   \n",
       "..     ...                                                 ...         ...   \n",
       "95       5  2041 Calle La Sombra UNIT 2, Simi Valley, CA 93063  2017-01-20   \n",
       "96       5             2112 Vista Grande St Danville, CA 94526  2023-11-10   \n",
       "97       5              10335 Branigan Way Riverside, CA 92505  2024-02-13   \n",
       "98       5               4252 Appleton St, San Diego, CA 92117  2016-10-27   \n",
       "99       5                     25 Sereno Pl, Vallejo, CA 94589  2015-06-15   \n",
       "\n",
       "                                                                                                                                                                                                                                                                                                                                                                                                                                                                                                                                                                                                                                                                                                                                             Description  \\\n",
       "0                                                                                                                                                                                                                                                                                                                                                                 Linda is very knowledgeable and experienced. Despite the fact that I had bought many homes in the past, she guided me every step of the way. Her follow up was impeccable. She is a consummate professional. Always going above and beyond the call of duty. I would highly recommend anyone looking for an exceptional realtor. And this review doesn’t even begin to do her justice.   \n",
       "1   Our family has worked with Victor for over a year he represented in the purchase of a rental property.  Victor advised us to submit an fair market price which was accepted by the seller.  Once escrow opened, Victor stayed on top of the Escrow company to facilitate any issues and in some cases doing that the sales agent should have done.<br/><br/>We are still working with Victor to purchase another property.  Victor monitors listings that meet our criteria and sends update of the latest listings in the areas where we are interested.    <br/><br/>He is very knowledgeable of the areas and has an excellent sense of market values.  He is also aware of our specific criteria and provides us frequent updates on the market.   \n",
       "2                                                                                         Cynthia blew us away with how helpful, patient and knowledgeable she was while we were searching for our first home to purchase. She was in constant communication and helped us find and close on our dream home during the busy holiday season. The amount of paperwork and contracts can be very daunting for a first time buyer but she came to us and walked us through everything step by step, even bringing gifts to help entertain our toddler during our meetings. We had such a great experience and are so happy with our decision to work with Cynthia. We highly recommend her to anyone in need of buying or selling a home. Thank you Cynthia!   \n",
       "3                                                                                                                                                                                                Janelle is an outstanding realtor. She was present and available throughout the entire process. Her negotiation skills are creative and top notch. Janelle was in constant contact with the seller, our mortgage broker, the title company, and inspectors. She made everything run smoothly. We are a family of three with one more on the way and we are so excited to be moving into our new home. From finding a home that was not even on the market, to closing in under thirty days. Thank you Janelle, we could not have done this without you.   \n",
       "4                                                                                                                                                                                                                                                                                                                                        Katelyn is AWESOME!   She helped us buy our first house when the market was crazy.  She guided us through the process with grace and ease.  Not only did she really ground us during this crazy process, she was such a fun cheerleader, therapist, partner and friend.  I would highly recommend Katelyn for anyone that wants to work with a kick butt agent.  She is amazing and can't say enough about her.   \n",
       "..                                                                                                                                                                                                                                                                                                                                                                                                                                                                                                                                                                                                                                                                                                                                                   ...   \n",
       "95                                                                                                                                                                                                                                                                                                                                                                                                                                                                             Jennifer was a referral and we could not be more pleased. She is soooo helpful and answered my many questions and was extremely patient with my husband and I. I especially liked how she wasn't pushy for a sale and made sure we were 100% confident with our purchase.   \n",
       "96                                                                                                 Nika did an incredible job helping us get our first home! She took the time to get to know us and what we were looking for and always had our best interest in mind. She knew the neighborhoods really well and was able to make helpful recommendations about different neighborhoods and the pros and cons of each. When it came time to place offers she was able help us pick a number that was both competitive and comfortable for our budget. She communicated well with the listing agents and was great at negotiating on our behalf. On top of all that she was very friendly, responsive, and easy to work with, we highly recommend her!!   \n",
       "97                                                                                                                                                                                                                                                     Yareth was instrumental in helping us find our dream home. She patiently listened to our needs and preferences, guiding us through every step of the process. Her deep understanding of the market ensured we explored options tailored to our requirements. Yareth's proactive communication and attention to detail kept us informed and confident throughout the journey. Thanks to Yareth's expertise and support, we now happily reside in our dream home, and we couldn't be more grateful.   \n",
       "98                                                                                                                                                               Chase provided a fabulous service for me.I was looking for homes in San Diego, coming from Minnesota. I was in need of a lot of  education.  Chase set up an automatic email to view properties based on my preferences.  This was a fabulous tool to understand the area, prices and availability. I was able to make one trip  to San Diego before my purchase.  He lined up one full day of showings. I found the home I was looking for with his help.  He goes above and beyond with all questions.  Chase is truly a professional I would recommend to anyone looking for a home.   \n",
       "99                                                                                                                  Theresa Hadenfelt is hands down the best realtor I have ever had the pleasure of working with.  She is extremely knowledgeable about Bay Area real estate and works diligently to provide her clients with solutions to their problems and questions.  She also has valuable real estate connections that have enhanced the value and efficiency of my business.  Her professionalism and friendly demeanor are first rate and made the experience of buying a home simple and fun.  I would recommend Theresa to anyone interested in buying or selling real estate.  The quality of the service she provides cannot be overstated.   \n",
       "\n",
       "                                                                                                                                                                                                                                                                                                                                                                                             Cleaned_Description  \n",
       "0                                                                                                                                                                                                                     linda knowledgeable experienced despite fact buy home past guide step way follow impeccable consummate professional go duty highly recommend look exceptional realtor review begin justice  \n",
       "1   family work victor year represent purchase rental property victor advise submit fair market price accept seller escrow open victor stay escrow company facilitate issue case sale agent work victor purchase property victor monitor listing meet criterion send update late listing area interested knowledgeable area excellent sense market value aware specific criterion provide frequent update market  \n",
       "2                                                                 cynthia blow away helpful patient knowledgeable search home purchase constant communication help find close dream home busy holiday season paperwork contract daunting time buyer come walk step step bring gift help entertain toddler meeting great experience happy decision work cynthia highly recommend need buy sell home thank cynthia  \n",
       "3                                                                                                                                            janelle outstanding realtor present available entire process negotiation skill creative notch janelle constant contact seller mortgage broker title company inspector run smoothly family way excited move new home find home market close thirty day thank janelle  \n",
       "4                                                                                                                                                                                                                  katelyn awesome help buy house market crazy guide process grace ease ground crazy process fun cheerleader therapist partner friend highly recommend katelyn want work kick butt agent amazing  \n",
       "..                                                                                                                                                                                                                                                                                                                                                                                                           ...  \n",
       "95                                                                                                                                                                                                                                                                      jennifer referral pleased soooo helpful answer question extremely patient husband especially like pushy sale sure 100 confident purchase  \n",
       "96                                                                                     nika incredible job help home take time know look good interest mind know neighborhood able helpful recommendation different neighborhood pro con come time place offer able help pick number competitive comfortable budget communicate list agent great negotiate behalf friendly responsive easy work highly recommend  \n",
       "97                                                                                             yareth instrumental help find dream home patiently listen need preference guide step process deep understanding market ensure explore option tailor requirement yareth proactive communication attention detail keep informed confident journey thank yareth expertise support happily reside dream home grateful  \n",
       "98                                                                                      chase provide fabulous service look home san diego come minnesota need lot education chase set automatic email view property base preference fabulous tool understand area price availability able trip san diego purchase line day showing find home look help go question chase truly professional recommend look home  \n",
       "99                           theresa hadenfelt hand good realtor pleasure work extremely knowledgeable bay area real estate work diligently provide client solution problem question valuable real estate connection enhance value efficiency business professionalism friendly demeanor rate experience buy home simple fun recommend theresa interested buy sell real estate quality service provide overstate  \n",
       "\n",
       "[100 rows x 5 columns]"
      ]
     },
     "execution_count": 9,
     "metadata": {},
     "output_type": "execute_result"
    }
   ],
   "source": [
    "import pandas as pd\n",
    "\n",
    "pd.set_option('display.max_colwidth', None)\n",
    "df = pd.read_csv('/home/gafur/Documents/Finance/Zillow_NLP/data/processed_zillow_reviews.csv') \n",
    "\n",
    "#I'll sample proportionally based on existing data distribution\n",
    "target_size = 100\n",
    "\n",
    "sampled_df = df.groupby('Rating').apply(\n",
    "    lambda x: x.sample(frac=target_size / len(df), random_state=42)\n",
    ").reset_index(drop=True)\n",
    "\n",
    "print(sampled_df['Rating'].value_counts())\n",
    "sampled_df"
   ]
  },
  {
   "cell_type": "code",
   "execution_count": 10,
   "id": "e6aaa78c-d2a8-436e-bf60-5bc4af0ce7fe",
   "metadata": {},
   "outputs": [
    {
     "name": "stdout",
     "output_type": "stream",
     "text": [
      "[2025-03-25 13:41:29] (2.4.1.post1) ********** Available ATEPC model checkpoints for Version:2.4.1.post1 (this version) **********\n",
      "[2025-03-25 13:41:29] (2.4.1.post1) ********** Available ATEPC model checkpoints for Version:2.4.1.post1 (this version) **********\n",
      "[2025-03-25 13:41:29] (2.4.1.post1) Downloading checkpoint:english \n",
      "[2025-03-25 13:41:29] (2.4.1.post1) Notice: The pretrained model are used for testing, it is recommended to train the model on your own custom datasets\n",
      "[2025-03-25 13:41:29] (2.4.1.post1) Checkpoint already downloaded, skip\n",
      "[2025-03-25 13:41:29] (2.4.1.post1) Load aspect extractor from checkpoints/ATEPC_ENGLISH_CHECKPOINT/fast_lcf_atepc_English_cdw_apcacc_82.36_apcf1_81.89_atef1_75.43\n",
      "[2025-03-25 13:41:29] (2.4.1.post1) config: checkpoints/ATEPC_ENGLISH_CHECKPOINT/fast_lcf_atepc_English_cdw_apcacc_82.36_apcf1_81.89_atef1_75.43/fast_lcf_atepc.config\n",
      "[2025-03-25 13:41:29] (2.4.1.post1) state_dict: checkpoints/ATEPC_ENGLISH_CHECKPOINT/fast_lcf_atepc_English_cdw_apcacc_82.36_apcf1_81.89_atef1_75.43/fast_lcf_atepc.state_dict\n",
      "[2025-03-25 13:41:29] (2.4.1.post1) model: None\n",
      "[2025-03-25 13:41:29] (2.4.1.post1) tokenizer: checkpoints/ATEPC_ENGLISH_CHECKPOINT/fast_lcf_atepc_English_cdw_apcacc_82.36_apcf1_81.89_atef1_75.43/fast_lcf_atepc.tokenizer\n",
      "[2025-03-25 13:41:29] (2.4.1.post1) Set Model Device: cpu\n",
      "[2025-03-25 13:41:29] (2.4.1.post1) Device Name: Unknown\n"
     ]
    },
    {
     "name": "stderr",
     "output_type": "stream",
     "text": [
      "/home/gafur/Documents/Finance/Zillow_NLP/venv/lib/python3.12/site-packages/transformers/convert_slow_tokenizer.py:559: UserWarning: The sentencepiece tokenizer that you are converting to a fast tokenizer uses the byte fallback option which is not implemented in the fast tokenizers. In practice this means that the fast version of the tokenizer can produce unknown tokens whereas the sentencepiece version would have converted these unknown tokens into a sequence of byte tokens matching the original piece of text.\n",
      "  warnings.warn(\n"
     ]
    }
   ],
   "source": [
    "from pyabsa import ATEPCCheckpointManager\n",
    "\n",
    "# Download and load pretrained ATEPC model\n",
    "aspect_extractor = ATEPCCheckpointManager.get_aspect_extractor(\n",
    "    checkpoint='english',  # You can also try 'english' or 'fast_lcf_atepc'\n",
    "    auto_device=True  # uses GPU if available\n",
    ")\n"
   ]
  },
  {
   "cell_type": "code",
   "execution_count": 11,
   "id": "3d7b4910-d9eb-4868-b303-1f58710c2688",
   "metadata": {},
   "outputs": [],
   "source": [
    "# Run ABSA on each cleaned review\n",
    "def extract_absa(text):\n",
    "    result = aspect_extractor.extract_aspect([text], print_result=False, save_result=False)\n",
    "    return result[0] if result else None\n",
    "\n",
    "# Apply to the Cleaned_Description column\n",
    "sampled_df['ABSA_Result'] = sampled_df['Cleaned_Description'].apply(extract_absa)\n"
   ]
  },
  {
   "cell_type": "code",
   "execution_count": 12,
   "id": "93933d93-541b-4322-824e-0322136e3f99",
   "metadata": {},
   "outputs": [],
   "source": [
    "def parse_absa_result(res):\n",
    "    if res and 'aspect' in res:\n",
    "        return ', '.join([f\"{asp} ({sent})\" for asp, sent in zip(res['aspect'], res['sentiment'])])\n",
    "    return None\n",
    "\n",
    "sampled_df['Aspect_Sentiment_Pairs'] = sampled_df['ABSA_Result'].apply(parse_absa_result)\n"
   ]
  },
  {
   "cell_type": "code",
   "execution_count": 13,
   "id": "e15ab5c6-ce69-4a9e-b36c-da386a7e6d66",
   "metadata": {},
   "outputs": [
    {
     "data": {
      "text/plain": [
       "0            linda (Positive)\n",
       "1                            \n",
       "2                            \n",
       "3          janelle (Positive)\n",
       "4          katelyn (Positive)\n",
       "               ...           \n",
       "95        jennifer (Positive)\n",
       "96            nika (Positive)\n",
       "97                           \n",
       "98    service look (Positive)\n",
       "99         theresa (Positive)\n",
       "Name: Aspect_Sentiment_Pairs, Length: 100, dtype: object"
      ]
     },
     "execution_count": 13,
     "metadata": {},
     "output_type": "execute_result"
    }
   ],
   "source": [
    "sampled_df['Aspect_Sentiment_Pairs']"
   ]
  },
  {
   "cell_type": "code",
   "execution_count": 14,
   "id": "93a33032-e7d2-4c98-a070-462dca2a1ad7",
   "metadata": {},
   "outputs": [],
   "source": [
    "sampled_df.to_csv(\"/home/gafur/Documents/Finance/Zillow_NLP/data/absa_on_100_review.csv\")"
   ]
  }
 ],
 "metadata": {
  "kernelspec": {
   "display_name": "Python 3 (ipykernel)",
   "language": "python",
   "name": "python3"
  },
  "language_info": {
   "codemirror_mode": {
    "name": "ipython",
    "version": 3
   },
   "file_extension": ".py",
   "mimetype": "text/x-python",
   "name": "python",
   "nbconvert_exporter": "python",
   "pygments_lexer": "ipython3",
   "version": "3.12.3"
  }
 },
 "nbformat": 4,
 "nbformat_minor": 5
}
